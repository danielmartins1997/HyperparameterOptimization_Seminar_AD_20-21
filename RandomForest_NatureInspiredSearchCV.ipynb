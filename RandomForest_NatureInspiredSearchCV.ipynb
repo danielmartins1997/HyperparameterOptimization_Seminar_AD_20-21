{
 "cells": [
  {
   "cell_type": "code",
   "execution_count": 14,
   "metadata": {},
   "outputs": [],
   "source": [
    "# Import all libraries needed\n",
    "\n",
    "import collections\n",
    "from sklearn import preprocessing\n",
    "from sklearn.decomposition import PCA\n",
    "import numpy as np\n",
    "import pandas as pd\n",
    "import time\n",
    "from sklearn import metrics\n",
    "from IPython.display import Markdown, display\n",
    "import random\n",
    "import matplotlib.pyplot as plt\n",
    "from keras.datasets import fashion_mnist"
   ]
  },
  {
   "cell_type": "code",
   "execution_count": 15,
   "metadata": {},
   "outputs": [
    {
     "name": "stdout",
     "output_type": "stream",
     "text": [
      "Shape of x_train: (60000, 28, 28)\n",
      "Shape of y_train: (60000,)\n",
      "\n",
      "Shape of x_test: (10000, 28, 28)\n",
      "Shape of y_test: (10000,)\n"
     ]
    }
   ],
   "source": [
    "# Show Shapes\n",
    "\n",
    "(x_train, y_train), (x_test, y_test) = fashion_mnist.load_data()\n",
    "print(\"Shape of x_train: {}\".format(x_train.shape))\n",
    "print(\"Shape of y_train: {}\".format(y_train.shape))\n",
    "print()\n",
    "print(\"Shape of x_test: {}\".format(x_test.shape))\n",
    "print(\"Shape of y_test: {}\".format(y_test.shape))"
   ]
  },
  {
   "cell_type": "code",
   "execution_count": 16,
   "metadata": {},
   "outputs": [
    {
     "name": "stdout",
     "output_type": "stream",
     "text": [
      "(60000, 784)\n",
      "(10000, 784)\n"
     ]
    }
   ],
   "source": [
    "# Change the Shapes and show it\n",
    "x_train = x_train.astype('float32')\n",
    "x_test = x_test.astype('float32')\n",
    "x_train /= 255.0\n",
    "x_test /= 255.0\n",
    "x_train = x_train.reshape(x_train.shape[0], x_train.shape[1] * x_train.shape[2])\n",
    "x_test = x_test.reshape(x_test.shape[0], x_test.shape[1] * x_test.shape[2])\n",
    "\n",
    "print(x_train.shape)\n",
    "print(x_test.shape)"
   ]
  },
  {
   "cell_type": "code",
   "execution_count": 17,
   "metadata": {},
   "outputs": [],
   "source": [
    "# Import specified libraries\n",
    "\n",
    "from sklearn.ensemble import RandomForestClassifier\n",
    "from sklearn_nature_inspired_algorithms.model_selection import NatureInspiredSearchCV\n",
    "from sklearn.metrics import classification_report"
   ]
  },
  {
   "cell_type": "code",
   "execution_count": 18,
   "metadata": {},
   "outputs": [],
   "source": [
    "# Define parameter grid (ranges)\n",
    "\n",
    "clf = RandomForestClassifier(random_state=42)\n",
    "\n",
    "\n",
    "param_grid = {\n",
    "    \n",
    "    'n_estimators': range(10,20),\n",
    "    'max_depth': range(5,10),\n",
    "    'min_samples_leaf': [1, 2, 5],\n",
    "    'min_samples_split': [2, 3],\n",
    "    'max_features': ['auto', 'sqrt'],\n",
    "}"
   ]
  },
  {
   "cell_type": "code",
   "execution_count": 19,
   "metadata": {},
   "outputs": [
    {
     "name": "stdout",
     "output_type": "stream",
     "text": [
      "Fitting 2 folds for some of the 600 candidates, which might total in 1200 fits\n",
      "Run 1/1 finished\n",
      "Optimization finished, 28 candidates were fitted (totalling 56 fits)\n"
     ]
    },
    {
     "name": "stderr",
     "output_type": "stream",
     "text": [
      "C:\\Users\\danie\\anaconda3\\lib\\site-packages\\sklearn\\base.py:209: FutureWarning: From version 0.24, get_params will raise an AttributeError if a parameter cannot be retrieved as an instance attribute. Previously it would return None.\n",
      "  warnings.warn('From version 0.24, get_params will raise an '\n"
     ]
    },
    {
     "data": {
      "text/plain": [
       "NatureInspiredSearchCV(algorithm=None, cv=2,\n",
       "                       estimator=RandomForestClassifier(random_state=42),\n",
       "                       max_n_gen=None, max_stagnating_gen=None, param_grid=None,\n",
       "                       population_size=None, runs=None, scoring='accuracy')"
      ]
     },
     "execution_count": 19,
     "metadata": {},
     "output_type": "execute_result"
    }
   ],
   "source": [
    "# Define NatureInspiredSearchCV Search\n",
    "\n",
    "nat_search = NatureInspiredSearchCV(\n",
    "    clf,\n",
    "    param_grid,\n",
    "    cv=2,\n",
    "    verbose=1,\n",
    "    algorithm='ba',\n",
    "    population_size=10,\n",
    "    max_n_gen=20,\n",
    "    max_stagnating_gen=10,    \n",
    "    runs=1,\n",
    "    scoring='accuracy',\n",
    "    random_state=42,\n",
    ")\n",
    "\n",
    "nat_search.fit(x_train, y_train)"
   ]
  },
  {
   "cell_type": "code",
   "execution_count": 20,
   "metadata": {
    "scrolled": true
   },
   "outputs": [
    {
     "name": "stdout",
     "output_type": "stream",
     "text": [
      "              precision    recall  f1-score   support\n",
      "\n",
      "           0     0.7777    0.8150    0.7959      1000\n",
      "           1     0.9947    0.9300    0.9612      1000\n",
      "           2     0.6888    0.6750    0.6818      1000\n",
      "           3     0.7987    0.8890    0.8415      1000\n",
      "           4     0.6504    0.8110    0.7219      1000\n",
      "           5     0.9733    0.9130    0.9422      1000\n",
      "           6     0.6702    0.4410    0.5320      1000\n",
      "           7     0.8911    0.9250    0.9078      1000\n",
      "           8     0.9430    0.9590    0.9509      1000\n",
      "           9     0.9094    0.9330    0.9210      1000\n",
      "\n",
      "    accuracy                         0.8291     10000\n",
      "   macro avg     0.8297    0.8291    0.8256     10000\n",
      "weighted avg     0.8297    0.8291    0.8256     10000\n",
      "\n",
      "Best Results:\n",
      " {'n_estimators': 14, 'max_depth': 9, 'min_samples_leaf': 5, 'min_samples_split': 3, 'max_features': 'auto'}\n"
     ]
    }
   ],
   "source": [
    "# Results\n",
    "\n",
    "clf = RandomForestClassifier(**nat_search.best_params_, random_state=42)\n",
    "clf.fit(x_train, y_train)\n",
    "y_pred = clf.predict(x_test)\n",
    "print(classification_report(y_test, y_pred, digits=4))\n",
    "print('Best Results:\\n', nat_search.best_params_)"
   ]
  },
  {
   "cell_type": "code",
   "execution_count": null,
   "metadata": {},
   "outputs": [],
   "source": []
  }
 ],
 "metadata": {
  "kernelspec": {
   "display_name": "Python 3",
   "language": "python",
   "name": "python3"
  },
  "language_info": {
   "codemirror_mode": {
    "name": "ipython",
    "version": 3
   },
   "file_extension": ".py",
   "mimetype": "text/x-python",
   "name": "python",
   "nbconvert_exporter": "python",
   "pygments_lexer": "ipython3",
   "version": "3.8.5"
  }
 },
 "nbformat": 4,
 "nbformat_minor": 4
}
