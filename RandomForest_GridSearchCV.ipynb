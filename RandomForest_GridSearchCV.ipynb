{
 "cells": [
  {
   "cell_type": "code",
   "execution_count": 1,
   "metadata": {},
   "outputs": [],
   "source": [
    "# Import all libraries needed\n",
    "\n",
    "import collections\n",
    "from sklearn import preprocessing\n",
    "from sklearn.decomposition import PCA\n",
    "import numpy as np\n",
    "import pandas as pd\n",
    "import time\n",
    "from sklearn import metrics\n",
    "from IPython.display import Markdown, display\n",
    "import random\n",
    "import matplotlib.pyplot as plt\n",
    "from keras.datasets import fashion_mnist"
   ]
  },
  {
   "cell_type": "code",
   "execution_count": 2,
   "metadata": {},
   "outputs": [
    {
     "name": "stdout",
     "output_type": "stream",
     "text": [
      "Shape of x_train: (60000, 28, 28)\n",
      "Shape of y_train: (60000,)\n",
      "\n",
      "Shape of x_test: (10000, 28, 28)\n",
      "Shape of y_test: (10000,)\n"
     ]
    }
   ],
   "source": [
    "# Show Shapes\n",
    "\n",
    "(x_train, y_train), (x_test, y_test) = fashion_mnist.load_data()\n",
    "print(\"Shape of x_train: {}\".format(x_train.shape))\n",
    "print(\"Shape of y_train: {}\".format(y_train.shape))\n",
    "print()\n",
    "print(\"Shape of x_test: {}\".format(x_test.shape))\n",
    "print(\"Shape of y_test: {}\".format(y_test.shape))"
   ]
  },
  {
   "cell_type": "code",
   "execution_count": 3,
   "metadata": {},
   "outputs": [
    {
     "name": "stdout",
     "output_type": "stream",
     "text": [
      "(60000, 784)\n",
      "(10000, 784)\n"
     ]
    }
   ],
   "source": [
    "# Change the Shapes and show it\n",
    "x_train = x_train.astype('float32')\n",
    "x_test = x_test.astype('float32')\n",
    "x_train /= 255.0\n",
    "x_test /= 255.0\n",
    "x_train = x_train.reshape(x_train.shape[0], x_train.shape[1] * x_train.shape[2])\n",
    "x_test = x_test.reshape(x_test.shape[0], x_test.shape[1] * x_test.shape[2])\n",
    "\n",
    "print(x_train.shape)\n",
    "print(x_test.shape)"
   ]
  },
  {
   "cell_type": "code",
   "execution_count": 4,
   "metadata": {},
   "outputs": [],
   "source": [
    "# Import specified libraries\n",
    "\n",
    "from sklearn.ensemble import RandomForestClassifier\n",
    "from sklearn.model_selection import GridSearchCV\n",
    "from sklearn.metrics import classification_report"
   ]
  },
  {
   "cell_type": "code",
   "execution_count": 9,
   "metadata": {},
   "outputs": [],
   "source": [
    "# Define parameter grid (ranges)\n",
    "\n",
    "clf = RandomForestClassifier(random_state=42)\n",
    "\n",
    "\n",
    "param_grid = {\n",
    "    \n",
    "    'n_estimators': range(10,20),\n",
    "    'max_depth': range(5,10),\n",
    "    'min_samples_leaf': [1, 2, 5],\n",
    "    'min_samples_split': [2, 3],\n",
    "    'max_features': ['auto', 'sqrt'],\n",
    "}"
   ]
  },
  {
   "cell_type": "code",
   "execution_count": 10,
   "metadata": {},
   "outputs": [
    {
     "name": "stdout",
     "output_type": "stream",
     "text": [
      "Fitting 2 folds for each of 600 candidates, totalling 1200 fits\n"
     ]
    },
    {
     "name": "stderr",
     "output_type": "stream",
     "text": [
      "[Parallel(n_jobs=-1)]: Using backend LokyBackend with 12 concurrent workers.\n",
      "[Parallel(n_jobs=-1)]: Done  26 tasks      | elapsed:   27.2s\n",
      "[Parallel(n_jobs=-1)]: Done 176 tasks      | elapsed:  2.4min\n",
      "[Parallel(n_jobs=-1)]: Done 426 tasks      | elapsed:  5.8min\n",
      "[Parallel(n_jobs=-1)]: Done 776 tasks      | elapsed: 10.8min\n",
      "[Parallel(n_jobs=-1)]: Done 1200 out of 1200 | elapsed: 17.4min finished\n"
     ]
    },
    {
     "data": {
      "text/plain": [
       "GridSearchCV(cv=2, estimator=RandomForestClassifier(random_state=42), n_jobs=-1,\n",
       "             param_grid={'max_depth': range(5, 10),\n",
       "                         'max_features': ['auto', 'sqrt'],\n",
       "                         'min_samples_leaf': [1, 2, 5],\n",
       "                         'min_samples_split': [2, 3],\n",
       "                         'n_estimators': range(10, 20)},\n",
       "             scoring='accuracy', verbose=1)"
      ]
     },
     "execution_count": 10,
     "metadata": {},
     "output_type": "execute_result"
    }
   ],
   "source": [
    "# Define GridSearch Search\n",
    "\n",
    "grid_search = GridSearchCV(\n",
    "    clf,\n",
    "    param_grid,\n",
    "    cv=2,\n",
    "    verbose=1,   \n",
    "    scoring='accuracy',\n",
    "    n_jobs=-1,\n",
    ")\n",
    "\n",
    "grid_search.fit(x_train, y_train)"
   ]
  },
  {
   "cell_type": "code",
   "execution_count": 11,
   "metadata": {
    "scrolled": true
   },
   "outputs": [
    {
     "name": "stdout",
     "output_type": "stream",
     "text": [
      "              precision    recall  f1-score   support\n",
      "\n",
      "           0     0.7673    0.8210    0.7932      1000\n",
      "           1     0.9904    0.9330    0.9609      1000\n",
      "           2     0.7018    0.7060    0.7039      1000\n",
      "           3     0.7991    0.8950    0.8443      1000\n",
      "           4     0.6697    0.7990    0.7287      1000\n",
      "           5     0.9723    0.9130    0.9417      1000\n",
      "           6     0.6773    0.4450    0.5371      1000\n",
      "           7     0.8857    0.9070    0.8962      1000\n",
      "           8     0.9523    0.9580    0.9551      1000\n",
      "           9     0.8974    0.9360    0.9163      1000\n",
      "\n",
      "    accuracy                         0.8313     10000\n",
      "   macro avg     0.8313    0.8313    0.8278     10000\n",
      "weighted avg     0.8313    0.8313    0.8278     10000\n",
      "\n",
      "Best Results:\n",
      " {'max_depth': 9, 'max_features': 'auto', 'min_samples_leaf': 2, 'min_samples_split': 2, 'n_estimators': 19}\n"
     ]
    }
   ],
   "source": [
    "# Results\n",
    "\n",
    "clf = RandomForestClassifier(**grid_search.best_params_, random_state=42)\n",
    "clf.fit(x_train, y_train)\n",
    "y_pred = clf.predict(x_test)\n",
    "print(classification_report(y_test, y_pred, digits=4))\n",
    "print('Best Results:\\n', grid_search.best_params_)"
   ]
  }
 ],
 "metadata": {
  "kernelspec": {
   "display_name": "Python 3",
   "language": "python",
   "name": "python3"
  },
  "language_info": {
   "codemirror_mode": {
    "name": "ipython",
    "version": 3
   },
   "file_extension": ".py",
   "mimetype": "text/x-python",
   "name": "python",
   "nbconvert_exporter": "python",
   "pygments_lexer": "ipython3",
   "version": "3.8.5"
  }
 },
 "nbformat": 4,
 "nbformat_minor": 4
}
